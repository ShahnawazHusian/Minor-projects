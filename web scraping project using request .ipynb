{
 "cells": [
  {
   "cell_type": "code",
   "execution_count": 1,
   "id": "32d0db5b",
   "metadata": {},
   "outputs": [],
   "source": [
    "import pandas as pd\n",
    "import requests\n",
    "import urllib.request\n",
    "from bs4 import BeautifulSoup\n",
    "import matplotlib.pyplot as plt"
   ]
  },
  {
   "cell_type": "code",
   "execution_count": 2,
   "id": "9bbaf1b1",
   "metadata": {},
   "outputs": [],
   "source": [
    "header = {\"user agent\" : \"Mozilla/5.0 (Windows NT 10.0; Win64; x64) AppleWebKit/537.36 (KHTML, like Gecko) Chrome/124.0.0.0 Safari/537.36\"}\n",
    "url = \"https://www.amazon.in/iQOO-Snapdragon-Processor-Supercomputing-Flagship/dp/B07WGPJ82V/?_encoding=UTF8&pd_rd_w=n84kK&content-id=amzn1.sym.727795ad-0950-4cb7-ba31-49c604f26c87&pf_rd_p=727795ad-0950-4cb7-ba31-49c604f26c87&pf_rd_r=QPB10YTZMKKQ9W5KXP23&pd_rd_wg=9HeaP&pd_rd_r=fa30f5c4-bebe-4efd-9648-b92d314e64bb&ref_=pd_gw_dealz_vi&th=1\""
   ]
  },
  {
   "cell_type": "code",
   "execution_count": 3,
   "id": "b9afaab6",
   "metadata": {},
   "outputs": [],
   "source": [
    "response = requests.get(url,headers = header).text"
   ]
  },
  {
   "cell_type": "code",
   "execution_count": 4,
   "id": "e540b1f6",
   "metadata": {},
   "outputs": [],
   "source": [
    "soup = BeautifulSoup(response)\n"
   ]
  },
  {
   "cell_type": "code",
   "execution_count": 5,
   "id": "b4949a19",
   "metadata": {},
   "outputs": [],
   "source": [
    "reviews2 = soup.find_all('div',class_ = \"a-expander-content reviewText review-text-content a-expander-partial-collapse-content\" )"
   ]
  },
  {
   "cell_type": "code",
   "execution_count": 49,
   "id": "d5f9524a",
   "metadata": {},
   "outputs": [],
   "source": [
    "rev = [s.find('span').text for s in reviews2]"
   ]
  },
  {
   "cell_type": "code",
   "execution_count": 12,
   "id": "8f3d3fb7",
   "metadata": {},
   "outputs": [
    {
     "data": {
      "text/plain": [
       "['Awesome phone..Probably the best within its segment. Charges very quickly, great battery lasting whole day with moderate to heavy usage. Camera is also great, specially low light capability is great, could have been more consistent with the colors but sometimes it messes up. 2x portrait works like a charm. For performance its one of the best with Snapdragon Gen 2 . I have a iphone 13 also, but I play BGMI on my Iqoo, No heating issues as of now. Very happy with the performance. Speaker quality is also great, Display is awesome for media consumption. You wont regret buying this phone if looks doesnt bother you. Personally I dont like its camera module, its huge.',\n",
       " \"Excellent display, performance, battery and fast charging but UI is lacking and feels average with pre-installed bloatware but can be removed after tweaking some settings . But UI is smooth . Build quality is sturdy but frame is plastic still feels solid . Speaker sound is not the loudest , need to use full volume most of the time . Other than that all good. I don't use cameras that much but it's good enough for normal users , good enough for this price . A good case ( giftkart ) will do the job for protection. It also comes with screen protector pre-installed. A 3.5mm jack would've been better .\",\n",
       " \"Firstly i would disclose what i don't like about this phone..1. Camera hardware is amazing but the software needs optimisation.2. Finding Tempered glass for this phone in the market is very tough.. so order it online if you could, same goes for back cover3. When/if not using back cover the phone feels cheap.4. Phone heats while charging... in summer heat.. not when the weather is cool..like rainy5. Before recent software update games like genshin impact used to lag or render a bit.. but now it doesn't..maybe it was because of hot weather idk.6. Software ui feels cheapNow pros,1. Gaming experience is amazing.2. Camera works perfect for photography.. not so much for videography though3. Battery charges extremely fast4. Battery backup is good5. The visuals, brightness, colors of the amoled display is amazing6. Phone feels light in hand so my fingers don't hurt like it would with phones with glass back and metal frame so that's good7. Performance is very smooth , functions like switching between apps and games and such8. There were some issues with fingerprint reading before update not they're mostly all solved.9. The 1 bit always on display function is soo useful. Saves a lot of battery.10. If you could get it under 33k the 8+256 variant it's worth buying ... I got my 12+256 variant for 32k by exchanging my realme 3pro.Note: dont buy 8+128gb .. instead buy 8+256 that would be a smart purchase\",\n",
       " \"I purchased the IQOO Neo 9 Pro during last month's Ram Navmi sale, and I must say I am thoroughly impressed with this device. The phone boasts a powerful processor, stunning display, and amazing camera capabilities.The performance of this phone is top-notch. The Qualcomm Snapdragon processor ensures smooth and lag-free operation, whether I'm gaming, multitasking, or browsing the web. The 120Hz AMOLED display is a treat for the eyes, offering vibrant colors and excellent contrast.The camera setup on the IQOO Neo 9 Pro is truly impressive. The photos I've taken with this phone are sharp, detailed, and full of color. The camera software offers a variety of shooting modes and editing tools, allowing me to capture stunning photos and videos effortlessly.Additionally, the battery life on this phone is excellent. I can easily get through a full day of heavy usage without needing to recharge.Overall, I highly recommend the IQOO Neo 9 Pro to anyone looking for a high-performance smartphone with a great camera and display. It's a fantastic device that offers great value for money.\",\n",
       " 'I have upgraded to this phone from my 5 year old POCO F1, 30 - 40k segment phones are so many in this price range. But for few of my priorities were good performance to edit videos on the go and click decent pictures and good storage of atleast 256GB. with these in my mind I narrowed down to IQOO Neo 9 Pro.Pros - Really Good Camera for most of the lighting scenarios, 4k video lacks wide angle but pretty usable footage with OIS and also front camera has 1080p 30fps resolution which is let down if you use front camera more . latest Snapdragon 8 Gen 2 processor, which delivers top-notch performance for demanding tasks like gaming and multitasking. Fast charging is just mind blowing by default it is not enabled you can select fast charging option.. 0 - 100% in just 30 mins.UFS 4.0 STORAGE works like a charm everytime you open multiple apps. The fiery red colour stands out and definitely growing on me.Cons : funtouch is good, but must say Xiaomi HyperOS user interface looks even more better , no wireless charging or NFC at this price range.Overall one of the best phone in the range with good batter life, charger in the box, good cameras.']"
      ]
     },
     "execution_count": 12,
     "metadata": {},
     "output_type": "execute_result"
    }
   ],
   "source": [
    "rev"
   ]
  },
  {
   "cell_type": "code",
   "execution_count": 28,
   "id": "2f3ac879",
   "metadata": {},
   "outputs": [],
   "source": [
    "ex = \"abcd 456\"\n",
    "for j in range(len(rev)):\n",
    "    for i in range(len(rev[j])):\n",
    "        if ord(rev[j][i]) not in range(32 , 126):\n",
    "            rev[j] = rev[j][:0] + rev[j][i+1:]\n",
    "            i = i -1"
   ]
  },
  {
   "cell_type": "code",
   "execution_count": 32,
   "id": "a06f5477",
   "metadata": {},
   "outputs": [],
   "source": [
    "df2 = pd.DataFrame(rev)"
   ]
  },
  {
   "cell_type": "code",
   "execution_count": 33,
   "id": "1cc19366",
   "metadata": {},
   "outputs": [],
   "source": [
    "df2.rename(columns = {0:'reviews'},inplace = True)"
   ]
  },
  {
   "cell_type": "code",
   "execution_count": 34,
   "id": "19d9ad9e",
   "metadata": {},
   "outputs": [
    {
     "name": "stdout",
     "output_type": "stream",
     "text": [
      "0    Awesome phone..Probably the best within its se...\n",
      "1    Excellent display, performance, battery and fa...\n",
      "2    Firstly i would disclose what i don't like abo...\n",
      "3    I purchased the IQOO Neo 9 Pro during last mon...\n",
      "4    I have upgraded to this phone from my 5 year o...\n",
      "Name: reviews, dtype: object\n"
     ]
    }
   ],
   "source": [
    "for i in df2:\n",
    "    print(df2[i])"
   ]
  },
  {
   "cell_type": "code",
   "execution_count": 35,
   "id": "ce453165",
   "metadata": {},
   "outputs": [
    {
     "data": {
      "text/plain": [
       "\"Excellent display, performance, battery and fast charging but UI is lacking and feels average with pre-installed bloatware but can be removed after tweaking some settings . But UI is smooth . Build quality is sturdy but frame is plastic still feels solid . Speaker sound is not the loudest , need to use full volume most of the time . Other than that all good. I don't use cameras that much but it's good enough for normal users , good enough for this price . A good case ( giftkart ) will do the job for protection. It also comes with screen protector pre-installed. A 3.5mm jack would've been better .\""
      ]
     },
     "execution_count": 35,
     "metadata": {},
     "output_type": "execute_result"
    }
   ],
   "source": [
    "df2['reviews'][1]"
   ]
  },
  {
   "cell_type": "code",
   "execution_count": 36,
   "id": "2ced7ef2",
   "metadata": {},
   "outputs": [
    {
     "data": {
      "text/plain": [
       "669"
      ]
     },
     "execution_count": 36,
     "metadata": {},
     "output_type": "execute_result"
    }
   ],
   "source": [
    "len(df2['reviews'][0])"
   ]
  },
  {
   "cell_type": "code",
   "execution_count": 37,
   "id": "6ffc5b75",
   "metadata": {},
   "outputs": [],
   "source": [
    "def stem(data):\n",
    "    suffixes = [\"ing\", \"ly\", \"ed\", \"es\", \"s\"]\n",
    "    for suf in suffixes:\n",
    "        if data.endswith(suf):\n",
    "            return data[:-len(suf)]\n",
    "    return data   \n"
   ]
  },
  {
   "cell_type": "code",
   "execution_count": 38,
   "id": "8231855c",
   "metadata": {},
   "outputs": [],
   "source": [
    "k = df2['reviews'].apply(stem)"
   ]
  },
  {
   "cell_type": "code",
   "execution_count": 39,
   "id": "f47ff66e",
   "metadata": {},
   "outputs": [
    {
     "name": "stdout",
     "output_type": "stream",
     "text": [
      "Positive\n",
      "\t\n",
      "\n",
      "Positive\n",
      "\t\n",
      "\n",
      "Positive\n",
      "\t\n",
      "\n",
      "Positive\n",
      "\t\n",
      "\n",
      "Positive\n",
      "\t\n",
      "\n"
     ]
    }
   ],
   "source": [
    "from nltk.sentiment.vader import SentimentIntensityAnalyzer\n",
    "import nltk\n",
    "\n",
    "for i in df2['reviews']:\n",
    "    sid = SentimentIntensityAnalyzer()\n",
    "    scored = sid.polarity_scores(i)\n",
    "    if scored['neg'] > scored['pos']:\n",
    "        print('Negative')\n",
    "    elif scored['pos'] > scored['neg']:\n",
    "        print('Positive')\n",
    "    print('\\t\\n')"
   ]
  },
  {
   "cell_type": "code",
   "execution_count": 40,
   "id": "871fc287",
   "metadata": {
    "scrolled": false
   },
   "outputs": [
    {
     "name": "stdout",
     "output_type": "stream",
     "text": [
      "Positive sent : ['Awesome phone..Probably the best within its segment.', 'Charges very quickly, great battery lasting whole day with moderate to heavy usage.', 'Camera is also great, specially low light capability is great, could have been more consistent with the colors but sometimes it messes up.', '2x portrait works like a charm.', 'For performance its one of the best with Snapdragon Gen 2 .', 'Very happy with the performance.', 'Speaker quality is also great, Display is awesome for media consumption.']\n",
      "\t\n",
      "\n",
      "Negative sent : ['I have a iphone 13 also, but I play BGMI on my Iqoo, No heating issues as of now.', 'You wont regret buying this phone if looks doesnt bother you.', 'Personally I dont like its camera module, its huge.']\n",
      "\t\n",
      "\n",
      "Neutral sent : []\n",
      "\t\n",
      "\n",
      "Positive sent : ['Awesome phone..Probably the best within its segment.', 'Charges very quickly, great battery lasting whole day with moderate to heavy usage.', 'Camera is also great, specially low light capability is great, could have been more consistent with the colors but sometimes it messes up.', '2x portrait works like a charm.', 'For performance its one of the best with Snapdragon Gen 2 .', 'Very happy with the performance.', 'Speaker quality is also great, Display is awesome for media consumption.', 'Excellent display, performance, battery and fast charging but UI is lacking and feels average with pre-installed bloatware but can be removed after tweaking some settings .', 'Build quality is sturdy but frame is plastic still feels solid .', 'Other than that all good.', \"I don't use cameras that much but it's good enough for normal users , good enough for this price .\", 'A good case ( giftkart ) will do the job for protection.', \"A 3.5mm jack would've been better .\"]\n",
      "\t\n",
      "\n",
      "Negative sent : ['I have a iphone 13 also, but I play BGMI on my Iqoo, No heating issues as of now.', 'You wont regret buying this phone if looks doesnt bother you.', 'Personally I dont like its camera module, its huge.']\n",
      "\t\n",
      "\n",
      "Neutral sent : ['But UI is smooth .', 'Speaker sound is not the loudest , need to use full volume most of the time .', 'It also comes with screen protector pre-installed.']\n",
      "\t\n",
      "\n",
      "Positive sent : ['Awesome phone..Probably the best within its segment.', 'Charges very quickly, great battery lasting whole day with moderate to heavy usage.', 'Camera is also great, specially low light capability is great, could have been more consistent with the colors but sometimes it messes up.', '2x portrait works like a charm.', 'For performance its one of the best with Snapdragon Gen 2 .', 'Very happy with the performance.', 'Speaker quality is also great, Display is awesome for media consumption.', 'Excellent display, performance, battery and fast charging but UI is lacking and feels average with pre-installed bloatware but can be removed after tweaking some settings .', 'Build quality is sturdy but frame is plastic still feels solid .', 'Other than that all good.', \"I don't use cameras that much but it's good enough for normal users , good enough for this price .\", 'A good case ( giftkart ) will do the job for protection.', \"A 3.5mm jack would've been better .\", \"Firstly i would disclose what i don't like about this phone..1.\", 'Camera hardware is amazing but the software needs optimisation.2.', 'Phone heats while charging... in summer heat.. not when the weather is cool..like rainy5.', \"Before recent software update games like genshin impact used to lag or render a bit.. but now it doesn't..maybe it was because of hot weather idk.6.\", 'Gaming experience is amazing.2.', 'Camera works perfect for photography.. not so much for videography though3.', 'The visuals, brightness, colors of the amoled display is amazing6.', 'Performance is very smooth , functions like switching between apps and games and such8.', \"There were some issues with fingerprint reading before update not they're mostly all solved.9.\", 'The 1 bit always on display function is soo useful.', \"If you could get it under 33k the 8+256 variant it's worth buying ...\", 'I got my 12+256 variant for 32k by exchanging my realme 3pro.Note: dont buy 8+128gb .. instead buy 8+256 that would be a smart purchase']\n",
      "\t\n",
      "\n",
      "Negative sent : ['I have a iphone 13 also, but I play BGMI on my Iqoo, No heating issues as of now.', 'You wont regret buying this phone if looks doesnt bother you.', 'Personally I dont like its camera module, its huge.', 'Battery charges extremely fast4.']\n",
      "\t\n",
      "\n",
      "Neutral sent : ['But UI is smooth .', 'Speaker sound is not the loudest , need to use full volume most of the time .', 'It also comes with screen protector pre-installed.', 'Finding Tempered glass for this phone in the market is very tough.. so order it online if you could, same goes for back cover3.', 'When/if not using back cover the phone feels cheap.4.', 'Software ui feels cheapNow pros,1.', 'Battery backup is good5.', \"Phone feels light in hand so my fingers don't hurt like it would with phones with glass back and metal frame so that's good7.\", 'Saves a lot of battery.10.']\n",
      "\t\n",
      "\n",
      "Positive sent : ['Awesome phone..Probably the best within its segment.', 'Charges very quickly, great battery lasting whole day with moderate to heavy usage.', 'Camera is also great, specially low light capability is great, could have been more consistent with the colors but sometimes it messes up.', '2x portrait works like a charm.', 'For performance its one of the best with Snapdragon Gen 2 .', 'Very happy with the performance.', 'Speaker quality is also great, Display is awesome for media consumption.', 'Excellent display, performance, battery and fast charging but UI is lacking and feels average with pre-installed bloatware but can be removed after tweaking some settings .', 'Build quality is sturdy but frame is plastic still feels solid .', 'Other than that all good.', \"I don't use cameras that much but it's good enough for normal users , good enough for this price .\", 'A good case ( giftkart ) will do the job for protection.', \"A 3.5mm jack would've been better .\", \"Firstly i would disclose what i don't like about this phone..1.\", 'Camera hardware is amazing but the software needs optimisation.2.', 'Phone heats while charging... in summer heat.. not when the weather is cool..like rainy5.', \"Before recent software update games like genshin impact used to lag or render a bit.. but now it doesn't..maybe it was because of hot weather idk.6.\", 'Gaming experience is amazing.2.', 'Camera works perfect for photography.. not so much for videography though3.', 'The visuals, brightness, colors of the amoled display is amazing6.', 'Performance is very smooth , functions like switching between apps and games and such8.', \"There were some issues with fingerprint reading before update not they're mostly all solved.9.\", 'The 1 bit always on display function is soo useful.', \"If you could get it under 33k the 8+256 variant it's worth buying ...\", 'I got my 12+256 variant for 32k by exchanging my realme 3pro.Note: dont buy 8+128gb .. instead buy 8+256 that would be a smart purchase', \"I purchased the IQOO Neo 9 Pro during last month's Ram Navmi sale, and I must say I am thoroughly impressed with this device.\", 'The phone boasts a powerful processor, stunning display, and amazing camera capabilities.The performance of this phone is top-notch.', 'The 120Hz AMOLED display is a treat for the eyes, offering vibrant colors and excellent contrast.The camera setup on the IQOO Neo 9 Pro is truly impressive.', 'The camera software offers a variety of shooting modes and editing tools, allowing me to capture stunning photos and videos effortlessly.Additionally, the battery life on this phone is excellent.', 'I can easily get through a full day of heavy usage without needing to recharge.Overall, I highly recommend the IQOO Neo 9 Pro to anyone looking for a high-performance smartphone with a great camera and display.', \"It's a fantastic device that offers great value for money.\"]\n",
      "\t\n",
      "\n",
      "Negative sent : ['I have a iphone 13 also, but I play BGMI on my Iqoo, No heating issues as of now.', 'You wont regret buying this phone if looks doesnt bother you.', 'Personally I dont like its camera module, its huge.', 'Battery charges extremely fast4.']\n",
      "\t\n",
      "\n",
      "Neutral sent : ['But UI is smooth .', 'Speaker sound is not the loudest , need to use full volume most of the time .', 'It also comes with screen protector pre-installed.', 'Finding Tempered glass for this phone in the market is very tough.. so order it online if you could, same goes for back cover3.', 'When/if not using back cover the phone feels cheap.4.', 'Software ui feels cheapNow pros,1.', 'Battery backup is good5.', \"Phone feels light in hand so my fingers don't hurt like it would with phones with glass back and metal frame so that's good7.\", 'Saves a lot of battery.10.', \"The Qualcomm Snapdragon processor ensures smooth and lag-free operation, whether I'm gaming, multitasking, or browsing the web.\", \"The photos I've taken with this phone are sharp, detailed, and full of color.\"]\n",
      "\t\n",
      "\n",
      "Positive sent : ['Awesome phone..Probably the best within its segment.', 'Charges very quickly, great battery lasting whole day with moderate to heavy usage.', 'Camera is also great, specially low light capability is great, could have been more consistent with the colors but sometimes it messes up.', '2x portrait works like a charm.', 'For performance its one of the best with Snapdragon Gen 2 .', 'Very happy with the performance.', 'Speaker quality is also great, Display is awesome for media consumption.', 'Excellent display, performance, battery and fast charging but UI is lacking and feels average with pre-installed bloatware but can be removed after tweaking some settings .', 'Build quality is sturdy but frame is plastic still feels solid .', 'Other than that all good.', \"I don't use cameras that much but it's good enough for normal users , good enough for this price .\", 'A good case ( giftkart ) will do the job for protection.', \"A 3.5mm jack would've been better .\", \"Firstly i would disclose what i don't like about this phone..1.\", 'Camera hardware is amazing but the software needs optimisation.2.', 'Phone heats while charging... in summer heat.. not when the weather is cool..like rainy5.', \"Before recent software update games like genshin impact used to lag or render a bit.. but now it doesn't..maybe it was because of hot weather idk.6.\", 'Gaming experience is amazing.2.', 'Camera works perfect for photography.. not so much for videography though3.', 'The visuals, brightness, colors of the amoled display is amazing6.', 'Performance is very smooth , functions like switching between apps and games and such8.', \"There were some issues with fingerprint reading before update not they're mostly all solved.9.\", 'The 1 bit always on display function is soo useful.', \"If you could get it under 33k the 8+256 variant it's worth buying ...\", 'I got my 12+256 variant for 32k by exchanging my realme 3pro.Note: dont buy 8+128gb .. instead buy 8+256 that would be a smart purchase', \"I purchased the IQOO Neo 9 Pro during last month's Ram Navmi sale, and I must say I am thoroughly impressed with this device.\", 'The phone boasts a powerful processor, stunning display, and amazing camera capabilities.The performance of this phone is top-notch.', 'The 120Hz AMOLED display is a treat for the eyes, offering vibrant colors and excellent contrast.The camera setup on the IQOO Neo 9 Pro is truly impressive.', 'The camera software offers a variety of shooting modes and editing tools, allowing me to capture stunning photos and videos effortlessly.Additionally, the battery life on this phone is excellent.', 'I can easily get through a full day of heavy usage without needing to recharge.Overall, I highly recommend the IQOO Neo 9 Pro to anyone looking for a high-performance smartphone with a great camera and display.', \"It's a fantastic device that offers great value for money.\", 'But for few of my priorities were good performance to edit videos on the go and click decent pictures and good storage of atleast 256GB.', 'with these in my mind I narrowed down to IQOO Neo 9 Pro.Pros - Really Good Camera for most of the lighting scenarios, 4k video lacks wide angle but pretty usable footage with OIS and also front camera has 1080p 30fps resolution which is let down if you use front camera more .', 'latest Snapdragon 8 Gen 2 processor, which delivers top-notch performance for demanding tasks like gaming and multitasking.', 'Fast charging is just mind blowing by default it is not enabled you can select fast charging option.. 0 - 100% in just 30 mins.UFS 4.0 STORAGE works like a charm everytime you open multiple apps.', 'The fiery red colour stands out and definitely growing on me.Cons : funtouch is good, but must say Xiaomi HyperOS user interface looks even more better , no wireless charging or NFC at this price range.Overall one of the best phone in the range with good batter life, charger in the box, good cameras.']\n",
      "\t\n",
      "\n",
      "Negative sent : ['I have a iphone 13 also, but I play BGMI on my Iqoo, No heating issues as of now.', 'You wont regret buying this phone if looks doesnt bother you.', 'Personally I dont like its camera module, its huge.', 'Battery charges extremely fast4.']\n",
      "\t\n",
      "\n",
      "Neutral sent : ['But UI is smooth .', 'Speaker sound is not the loudest , need to use full volume most of the time .', 'It also comes with screen protector pre-installed.', 'Finding Tempered glass for this phone in the market is very tough.. so order it online if you could, same goes for back cover3.', 'When/if not using back cover the phone feels cheap.4.', 'Software ui feels cheapNow pros,1.', 'Battery backup is good5.', \"Phone feels light in hand so my fingers don't hurt like it would with phones with glass back and metal frame so that's good7.\", 'Saves a lot of battery.10.', \"The Qualcomm Snapdragon processor ensures smooth and lag-free operation, whether I'm gaming, multitasking, or browsing the web.\", \"The photos I've taken with this phone are sharp, detailed, and full of color.\", 'I have upgraded to this phone from my 5 year old POCO F1, 30 - 40k segment phones are so many in this price range.']\n",
      "\t\n",
      "\n"
     ]
    }
   ],
   "source": [
    "from afinn import Afinn\n",
    "from nltk.tokenize import sent_tokenize\n",
    "afinn = Afinn()\n",
    "positive = []\n",
    "negative = []\n",
    "neutral = []\n",
    "for i in df2['reviews']:\n",
    "    \n",
    "    tokens =sent_tokenize(i)\n",
    "\n",
    "    for token in tokens:\n",
    "        if afinn.score(token) > 0:\n",
    "            positive.append(token)\n",
    "        elif afinn.score(token) < 0:\n",
    "            negative.append(token)\n",
    "        else:\n",
    "            neutral.append(token)\n",
    "\n",
    "    print('Positive sent :',positive)\n",
    "    print(\"\\t\\n\")\n",
    "    print('Negative sent :',negative)\n",
    "    print(\"\\t\\n\")\n",
    "    print('Neutral sent :',neutral)\n",
    "    print(\"\\t\\n\")\n",
    "    "
   ]
  },
  {
   "cell_type": "code",
   "execution_count": 41,
   "id": "8e74b7e8",
   "metadata": {},
   "outputs": [],
   "source": [
    "p = len(positive)\n",
    "n = len(negative)\n",
    "ne = len(neutral)"
   ]
  },
  {
   "cell_type": "code",
   "execution_count": 42,
   "id": "dfcda82d",
   "metadata": {},
   "outputs": [],
   "source": [
    "name = ['Positive_Reviews','Negative_Reviews',\"Neutral_Reviews\"]\n",
    "rev = [p,n,ne]"
   ]
  },
  {
   "cell_type": "code",
   "execution_count": 43,
   "id": "acafa087",
   "metadata": {},
   "outputs": [],
   "source": [
    "def addgraph(x,y):\n",
    "    for i in range(len(x)):\n",
    "        plt.text(x[i],y[i],y[i],ha = 'center',va = 'bottom')"
   ]
  },
  {
   "cell_type": "code",
   "execution_count": 44,
   "id": "ffdbf441",
   "metadata": {},
   "outputs": [
    {
     "data": {
      "image/png": "[encoded data removed]",
      "text/plain": [
       "<Figure size 640x480 with 1 Axes>"
      ]
     },
     "metadata": {},
     "output_type": "display_data"
    }
   ],
   "source": [
    "plt.bar(name,rev,color = ['red','green','blue'])\n",
    "addgraph(name,rev)"
   ]
  },
  {
   "cell_type": "code",
   "execution_count": 45,
   "id": "cb02d1d1",
   "metadata": {},
   "outputs": [
    {
     "name": "stdout",
     "output_type": "stream",
     "text": [
      "Positive Words : ['Awesome', 'best', 'great', 'great', 'capability', 'great', 'like', 'charm', 'best', 'happy', 'quality', 'great', 'awesome', 'like', 'huge']\n",
      "\t\n",
      "\n",
      "Negative Words : ['Charges', 'No', 'regret', 'bother']\n",
      "\t\n",
      "\n",
      "Neutral Words : ['phone', '..', 'Probably', 'the', 'within', 'its', 'segment', '.', 'very', 'quickly', ',', 'battery', 'lasting', 'whole', 'day', 'with', 'moderate', 'to', 'heavy', 'usage', '.', 'Camera', 'is', 'also', ',', 'specially', 'low', 'light', 'is', ',', 'could', 'have', 'been', 'more', 'consistent', 'with', 'the', 'colors', 'but', 'sometimes', 'it', 'messes', 'up', '.', '2x', 'portrait', 'works', 'a', '.', 'For', 'performance', 'its', 'one', 'of', 'the', 'with', 'Snapdragon', 'Gen', '2', '.', 'I', 'have', 'a', 'iphone', '13', 'also', ',', 'but', 'I', 'play', 'BGMI', 'on', 'my', 'Iqoo', ',', 'heating', 'issues', 'as', 'of', 'now', '.', 'Very', 'with', 'the', 'performance', '.', 'Speaker', 'is', 'also', ',', 'Display', 'is', 'for', 'media', 'consumption', '.', 'You', 'wont', 'buying', 'this', 'phone', 'if', 'looks', 'doesnt', 'you', '.', 'Personally', 'I', 'dont', 'its', 'camera', 'module', ',', 'its', '.']\n",
      "\t\n",
      "\n",
      "Positive Words : ['Awesome', 'best', 'great', 'great', 'capability', 'great', 'like', 'charm', 'best', 'happy', 'quality', 'great', 'awesome', 'like', 'huge', 'Excellent', 'quality', 'solid', 'good', 'good', 'good', 'good', 'better']\n",
      "\t\n",
      "\n",
      "Negative Words : ['Charges', 'No', 'regret', 'bother']\n",
      "\t\n",
      "\n",
      "Neutral Words : ['phone', '..', 'Probably', 'the', 'within', 'its', 'segment', '.', 'very', 'quickly', ',', 'battery', 'lasting', 'whole', 'day', 'with', 'moderate', 'to', 'heavy', 'usage', '.', 'Camera', 'is', 'also', ',', 'specially', 'low', 'light', 'is', ',', 'could', 'have', 'been', 'more', 'consistent', 'with', 'the', 'colors', 'but', 'sometimes', 'it', 'messes', 'up', '.', '2x', 'portrait', 'works', 'a', '.', 'For', 'performance', 'its', 'one', 'of', 'the', 'with', 'Snapdragon', 'Gen', '2', '.', 'I', 'have', 'a', 'iphone', '13', 'also', ',', 'but', 'I', 'play', 'BGMI', 'on', 'my', 'Iqoo', ',', 'heating', 'issues', 'as', 'of', 'now', '.', 'Very', 'with', 'the', 'performance', '.', 'Speaker', 'is', 'also', ',', 'Display', 'is', 'for', 'media', 'consumption', '.', 'You', 'wont', 'buying', 'this', 'phone', 'if', 'looks', 'doesnt', 'you', '.', 'Personally', 'I', 'dont', 'its', 'camera', 'module', ',', 'its', '.', 'display', ',', 'performance', ',', 'battery', 'and', 'fast', 'charging', 'but', 'UI', 'is', 'lacking', 'and', 'feels', 'average', 'with', 'pre-installed', 'bloatware', 'but', 'can', 'be', 'removed', 'after', 'tweaking', 'some', 'settings', '.', 'But', 'UI', 'is', 'smooth', '.', 'Build', 'is', 'sturdy', 'but', 'frame', 'is', 'plastic', 'still', 'feels', '.', 'Speaker', 'sound', 'is', 'not', 'the', 'loudest', ',', 'need', 'to', 'use', 'full', 'volume', 'most', 'of', 'the', 'time', '.', 'Other', 'than', 'that', 'all', '.', 'I', 'do', \"n't\", 'use', 'cameras', 'that', 'much', 'but', 'it', \"'s\", 'enough', 'for', 'normal', 'users', ',', 'enough', 'for', 'this', 'price', '.', 'A', 'case', '(', 'giftkart', ')', 'will', 'do', 'the', 'job', 'for', 'protection', '.', 'It', 'also', 'comes', 'with', 'screen', 'protector', 'pre-installed', '.', 'A', '3.5mm', 'jack', 'would', \"'ve\", 'been', '.']\n",
      "\t\n",
      "\n",
      "Positive Words : ['Awesome', 'best', 'great', 'great', 'capability', 'great', 'like', 'charm', 'best', 'happy', 'quality', 'great', 'awesome', 'like', 'huge', 'Excellent', 'quality', 'solid', 'good', 'good', 'good', 'good', 'better', 'like', 'amazing', 'cool', 'like', 'like', 'amazing.2', 'perfect', 'brightness', 'like', 'like', 'solved.9', 'useful', 'worth', 'smart']\n",
      "\t\n",
      "\n",
      "Negative Words : ['Charges', 'No', 'regret', 'bother', 'lag', 'charges', 'hurt']\n",
      "\t\n",
      "\n",
      "Neutral Words : ['phone', '..', 'Probably', 'the', 'within', 'its', 'segment', '.', 'very', 'quickly', ',', 'battery', 'lasting', 'whole', 'day', 'with', 'moderate', 'to', 'heavy', 'usage', '.', 'Camera', 'is', 'also', ',', 'specially', 'low', 'light', 'is', ',', 'could', 'have', 'been', 'more', 'consistent', 'with', 'the', 'colors', 'but', 'sometimes', 'it', 'messes', 'up', '.', '2x', 'portrait', 'works', 'a', '.', 'For', 'performance', 'its', 'one', 'of', 'the', 'with', 'Snapdragon', 'Gen', '2', '.', 'I', 'have', 'a', 'iphone', '13', 'also', ',', 'but', 'I', 'play', 'BGMI', 'on', 'my', 'Iqoo', ',', 'heating', 'issues', 'as', 'of', 'now', '.', 'Very', 'with', 'the', 'performance', '.', 'Speaker', 'is', 'also', ',', 'Display', 'is', 'for', 'media', 'consumption', '.', 'You', 'wont', 'buying', 'this', 'phone', 'if', 'looks', 'doesnt', 'you', '.', 'Personally', 'I', 'dont', 'its', 'camera', 'module', ',', 'its', '.', 'display', ',', 'performance', ',', 'battery', 'and', 'fast', 'charging', 'but', 'UI', 'is', 'lacking', 'and', 'feels', 'average', 'with', 'pre-installed', 'bloatware', 'but', 'can', 'be', 'removed', 'after', 'tweaking', 'some', 'settings', '.', 'But', 'UI', 'is', 'smooth', '.', 'Build', 'is', 'sturdy', 'but', 'frame', 'is', 'plastic', 'still', 'feels', '.', 'Speaker', 'sound', 'is', 'not', 'the', 'loudest', ',', 'need', 'to', 'use', 'full', 'volume', 'most', 'of', 'the', 'time', '.', 'Other', 'than', 'that', 'all', '.', 'I', 'do', \"n't\", 'use', 'cameras', 'that', 'much', 'but', 'it', \"'s\", 'enough', 'for', 'normal', 'users', ',', 'enough', 'for', 'this', 'price', '.', 'A', 'case', '(', 'giftkart', ')', 'will', 'do', 'the', 'job', 'for', 'protection', '.', 'It', 'also', 'comes', 'with', 'screen', 'protector', 'pre-installed', '.', 'A', '3.5mm', 'jack', 'would', \"'ve\", 'been', '.', 'Firstly', 'i', 'would', 'disclose', 'what', 'i', 'do', \"n't\", 'about', 'this', 'phone', '..', '1', '.', 'Camera', 'hardware', 'is', 'but', 'the', 'software', 'needs', 'optimisation.2', '.', 'Finding', 'Tempered', 'glass', 'for', 'this', 'phone', 'in', 'the', 'market', 'is', 'very', 'tough', '..', 'so', 'order', 'it', 'online', 'if', 'you', 'could', ',', 'same', 'goes', 'for', 'back', 'cover3', '.', 'When/if', 'not', 'using', 'back', 'cover', 'the', 'phone', 'feels', 'cheap.4', '.', 'Phone', 'heats', 'while', 'charging', '...', 'in', 'summer', 'heat', '..', 'not', 'when', 'the', 'weather', 'is', '..', 'rainy5', '.', 'Before', 'recent', 'software', 'update', 'games', 'genshin', 'impact', 'used', 'to', 'or', 'render', 'a', 'bit', '..', 'but', 'now', 'it', 'does', \"n't\", '..', 'maybe', 'it', 'was', 'because', 'of', 'hot', 'weather', 'idk.6', '.', 'Software', 'ui', 'feels', 'cheapNow', 'pros,1', '.', 'Gaming', 'experience', 'is', '.', 'Camera', 'works', 'for', 'photography', '..', 'not', 'so', 'much', 'for', 'videography', 'though3', '.', 'Battery', 'extremely', 'fast4', '.', 'Battery', 'backup', 'is', 'good5', '.', 'The', 'visuals', ',', ',', 'colors', 'of', 'the', 'amoled', 'display', 'is', 'amazing6', '.', 'Phone', 'feels', 'light', 'in', 'hand', 'so', 'my', 'fingers', 'do', \"n't\", 'it', 'would', 'with', 'phones', 'with', 'glass', 'back', 'and', 'metal', 'frame', 'so', 'that', \"'s\", 'good7', '.', 'Performance', 'is', 'very', 'smooth', ',', 'functions', 'switching', 'between', 'apps', 'and', 'games', 'and', 'such8', '.', 'There', 'were', 'some', 'issues', 'with', 'fingerprint', 'reading', 'before', 'update', 'not', 'they', \"'re\", 'mostly', 'all', '.', 'The', '1', 'bit', 'always', 'on', 'display', 'function', 'is', 'soo', '.', 'Saves', 'a', 'lot', 'of', 'battery.10', '.', 'If', 'you', 'could', 'get', 'it', 'under', '33k', 'the', '8+256', 'variant', 'it', \"'s\", 'buying', '...', 'I', 'got', 'my', '12+256', 'variant', 'for', '32k', 'by', 'exchanging', 'my', 'realme', '3pro.Note', ':', 'dont', 'buy', '8+128gb', '..', 'instead', 'buy', '8+256', 'that', 'would', 'be', 'a', 'purchase']\n",
      "\t\n",
      "\n",
      "Positive Words : ['Awesome', 'best', 'great', 'great', 'capability', 'great', 'like', 'charm', 'best', 'happy', 'quality', 'great', 'awesome', 'like', 'huge', 'Excellent', 'quality', 'solid', 'good', 'good', 'good', 'good', 'better', 'like', 'amazing', 'cool', 'like', 'like', 'amazing.2', 'perfect', 'brightness', 'like', 'like', 'solved.9', 'useful', 'worth', 'smart', 'impressed', 'powerful', 'stunning', 'amazing', 'capabilities.The', 'top-notch', 'vibrant', 'excellent', 'impressive', 'stunning', 'effortlessly.Additionally', 'excellent', 'recommend', 'great', 'fantastic', 'great']\n",
      "\t\n",
      "\n",
      "Negative Words : ['Charges', 'No', 'regret', 'bother', 'lag', 'charges', 'hurt']\n",
      "\t\n",
      "\n",
      "Neutral Words : ['phone', '..', 'Probably', 'the', 'within', 'its', 'segment', '.', 'very', 'quickly', ',', 'battery', 'lasting', 'whole', 'day', 'with', 'moderate', 'to', 'heavy', 'usage', '.', 'Camera', 'is', 'also', ',', 'specially', 'low', 'light', 'is', ',', 'could', 'have', 'been', 'more', 'consistent', 'with', 'the', 'colors', 'but', 'sometimes', 'it', 'messes', 'up', '.', '2x', 'portrait', 'works', 'a', '.', 'For', 'performance', 'its', 'one', 'of', 'the', 'with', 'Snapdragon', 'Gen', '2', '.', 'I', 'have', 'a', 'iphone', '13', 'also', ',', 'but', 'I', 'play', 'BGMI', 'on', 'my', 'Iqoo', ',', 'heating', 'issues', 'as', 'of', 'now', '.', 'Very', 'with', 'the', 'performance', '.', 'Speaker', 'is', 'also', ',', 'Display', 'is', 'for', 'media', 'consumption', '.', 'You', 'wont', 'buying', 'this', 'phone', 'if', 'looks', 'doesnt', 'you', '.', 'Personally', 'I', 'dont', 'its', 'camera', 'module', ',', 'its', '.', 'display', ',', 'performance', ',', 'battery', 'and', 'fast', 'charging', 'but', 'UI', 'is', 'lacking', 'and', 'feels', 'average', 'with', 'pre-installed', 'bloatware', 'but', 'can', 'be', 'removed', 'after', 'tweaking', 'some', 'settings', '.', 'But', 'UI', 'is', 'smooth', '.', 'Build', 'is', 'sturdy', 'but', 'frame', 'is', 'plastic', 'still', 'feels', '.', 'Speaker', 'sound', 'is', 'not', 'the', 'loudest', ',', 'need', 'to', 'use', 'full', 'volume', 'most', 'of', 'the', 'time', '.', 'Other', 'than', 'that', 'all', '.', 'I', 'do', \"n't\", 'use', 'cameras', 'that', 'much', 'but', 'it', \"'s\", 'enough', 'for', 'normal', 'users', ',', 'enough', 'for', 'this', 'price', '.', 'A', 'case', '(', 'giftkart', ')', 'will', 'do', 'the', 'job', 'for', 'protection', '.', 'It', 'also', 'comes', 'with', 'screen', 'protector', 'pre-installed', '.', 'A', '3.5mm', 'jack', 'would', \"'ve\", 'been', '.', 'Firstly', 'i', 'would', 'disclose', 'what', 'i', 'do', \"n't\", 'about', 'this', 'phone', '..', '1', '.', 'Camera', 'hardware', 'is', 'but', 'the', 'software', 'needs', 'optimisation.2', '.', 'Finding', 'Tempered', 'glass', 'for', 'this', 'phone', 'in', 'the', 'market', 'is', 'very', 'tough', '..', 'so', 'order', 'it', 'online', 'if', 'you', 'could', ',', 'same', 'goes', 'for', 'back', 'cover3', '.', 'When/if', 'not', 'using', 'back', 'cover', 'the', 'phone', 'feels', 'cheap.4', '.', 'Phone', 'heats', 'while', 'charging', '...', 'in', 'summer', 'heat', '..', 'not', 'when', 'the', 'weather', 'is', '..', 'rainy5', '.', 'Before', 'recent', 'software', 'update', 'games', 'genshin', 'impact', 'used', 'to', 'or', 'render', 'a', 'bit', '..', 'but', 'now', 'it', 'does', \"n't\", '..', 'maybe', 'it', 'was', 'because', 'of', 'hot', 'weather', 'idk.6', '.', 'Software', 'ui', 'feels', 'cheapNow', 'pros,1', '.', 'Gaming', 'experience', 'is', '.', 'Camera', 'works', 'for', 'photography', '..', 'not', 'so', 'much', 'for', 'videography', 'though3', '.', 'Battery', 'extremely', 'fast4', '.', 'Battery', 'backup', 'is', 'good5', '.', 'The', 'visuals', ',', ',', 'colors', 'of', 'the', 'amoled', 'display', 'is', 'amazing6', '.', 'Phone', 'feels', 'light', 'in', 'hand', 'so', 'my', 'fingers', 'do', \"n't\", 'it', 'would', 'with', 'phones', 'with', 'glass', 'back', 'and', 'metal', 'frame', 'so', 'that', \"'s\", 'good7', '.', 'Performance', 'is', 'very', 'smooth', ',', 'functions', 'switching', 'between', 'apps', 'and', 'games', 'and', 'such8', '.', 'There', 'were', 'some', 'issues', 'with', 'fingerprint', 'reading', 'before', 'update', 'not', 'they', \"'re\", 'mostly', 'all', '.', 'The', '1', 'bit', 'always', 'on', 'display', 'function', 'is', 'soo', '.', 'Saves', 'a', 'lot', 'of', 'battery.10', '.', 'If', 'you', 'could', 'get', 'it', 'under', '33k', 'the', '8+256', 'variant', 'it', \"'s\", 'buying', '...', 'I', 'got', 'my', '12+256', 'variant', 'for', '32k', 'by', 'exchanging', 'my', 'realme', '3pro.Note', ':', 'dont', 'buy', '8+128gb', '..', 'instead', 'buy', '8+256', 'that', 'would', 'be', 'a', 'purchase', 'I', 'purchased', 'the', 'IQOO', 'Neo', '9', 'Pro', 'during', 'last', 'month', \"'s\", 'Ram', 'Navmi', 'sale', ',', 'and', 'I', 'must', 'say', 'I', 'am', 'thoroughly', 'with', 'this', 'device', '.', 'The', 'phone', 'boasts', 'a', 'processor', ',', 'display', ',', 'and', 'camera', 'performance', 'of', 'this', 'phone', 'is', '.', 'The', 'Qualcomm', 'Snapdragon', 'processor', 'ensures', 'smooth', 'and', 'lag-free', 'operation', ',', 'whether', 'I', \"'m\", 'gaming', ',', 'multitasking', ',', 'or', 'browsing', 'the', 'web', '.', 'The', '120Hz', 'AMOLED', 'display', 'is', 'a', 'treat', 'for', 'the', 'eyes', ',', 'offering', 'colors', 'and', 'contrast.The', 'camera', 'setup', 'on', 'the', 'IQOO', 'Neo', '9', 'Pro', 'is', 'truly', '.', 'The', 'photos', 'I', \"'ve\", 'taken', 'with', 'this', 'phone', 'are', 'sharp', ',', 'detailed', ',', 'and', 'full', 'of', 'color', '.', 'The', 'camera', 'software', 'offers', 'a', 'variety', 'of', 'shooting', 'modes', 'and', 'editing', 'tools', ',', 'allowing', 'me', 'to', 'capture', 'photos', 'and', 'videos', ',', 'the', 'battery', 'life', 'on', 'this', 'phone', 'is', '.', 'I', 'can', 'easily', 'get', 'through', 'a', 'full', 'day', 'of', 'heavy', 'usage', 'without', 'needing', 'to', 'recharge.Overall', ',', 'I', 'highly', 'the', 'IQOO', 'Neo', '9', 'Pro', 'to', 'anyone', 'looking', 'for', 'a', 'high-performance', 'smartphone', 'with', 'a', 'camera', 'and', 'display', '.', 'It', \"'s\", 'a', 'device', 'that', 'offers', 'value', 'for', 'money', '.']\n",
      "\t\n",
      "\n",
      "Positive Words : ['Awesome', 'best', 'great', 'great', 'capability', 'great', 'like', 'charm', 'best', 'happy', 'quality', 'great', 'awesome', 'like', 'huge', 'Excellent', 'quality', 'solid', 'good', 'good', 'good', 'good', 'better', 'like', 'amazing', 'cool', 'like', 'like', 'amazing.2', 'perfect', 'brightness', 'like', 'like', 'solved.9', 'useful', 'worth', 'smart', 'impressed', 'powerful', 'stunning', 'amazing', 'capabilities.The', 'top-notch', 'vibrant', 'excellent', 'impressive', 'stunning', 'effortlessly.Additionally', 'excellent', 'recommend', 'great', 'fantastic', 'great', 'good', 'good', 'Good', 'pretty', 'resolution', 'top-notch', 'like', 'like', 'charm', 'growing', 'good', 'better', 'best', 'good', 'good']\n",
      "\t\n",
      "\n",
      "Negative Words : ['Charges', 'No', 'regret', 'bother', 'lag', 'charges', 'hurt', 'demanding', 'no']\n",
      "\t\n",
      "\n",
      "Neutral Words : ['phone', '..', 'Probably', 'the', 'within', 'its', 'segment', '.', 'very', 'quickly', ',', 'battery', 'lasting', 'whole', 'day', 'with', 'moderate', 'to', 'heavy', 'usage', '.', 'Camera', 'is', 'also', ',', 'specially', 'low', 'light', 'is', ',', 'could', 'have', 'been', 'more', 'consistent', 'with', 'the', 'colors', 'but', 'sometimes', 'it', 'messes', 'up', '.', '2x', 'portrait', 'works', 'a', '.', 'For', 'performance', 'its', 'one', 'of', 'the', 'with', 'Snapdragon', 'Gen', '2', '.', 'I', 'have', 'a', 'iphone', '13', 'also', ',', 'but', 'I', 'play', 'BGMI', 'on', 'my', 'Iqoo', ',', 'heating', 'issues', 'as', 'of', 'now', '.', 'Very', 'with', 'the', 'performance', '.', 'Speaker', 'is', 'also', ',', 'Display', 'is', 'for', 'media', 'consumption', '.', 'You', 'wont', 'buying', 'this', 'phone', 'if', 'looks', 'doesnt', 'you', '.', 'Personally', 'I', 'dont', 'its', 'camera', 'module', ',', 'its', '.', 'display', ',', 'performance', ',', 'battery', 'and', 'fast', 'charging', 'but', 'UI', 'is', 'lacking', 'and', 'feels', 'average', 'with', 'pre-installed', 'bloatware', 'but', 'can', 'be', 'removed', 'after', 'tweaking', 'some', 'settings', '.', 'But', 'UI', 'is', 'smooth', '.', 'Build', 'is', 'sturdy', 'but', 'frame', 'is', 'plastic', 'still', 'feels', '.', 'Speaker', 'sound', 'is', 'not', 'the', 'loudest', ',', 'need', 'to', 'use', 'full', 'volume', 'most', 'of', 'the', 'time', '.', 'Other', 'than', 'that', 'all', '.', 'I', 'do', \"n't\", 'use', 'cameras', 'that', 'much', 'but', 'it', \"'s\", 'enough', 'for', 'normal', 'users', ',', 'enough', 'for', 'this', 'price', '.', 'A', 'case', '(', 'giftkart', ')', 'will', 'do', 'the', 'job', 'for', 'protection', '.', 'It', 'also', 'comes', 'with', 'screen', 'protector', 'pre-installed', '.', 'A', '3.5mm', 'jack', 'would', \"'ve\", 'been', '.', 'Firstly', 'i', 'would', 'disclose', 'what', 'i', 'do', \"n't\", 'about', 'this', 'phone', '..', '1', '.', 'Camera', 'hardware', 'is', 'but', 'the', 'software', 'needs', 'optimisation.2', '.', 'Finding', 'Tempered', 'glass', 'for', 'this', 'phone', 'in', 'the', 'market', 'is', 'very', 'tough', '..', 'so', 'order', 'it', 'online', 'if', 'you', 'could', ',', 'same', 'goes', 'for', 'back', 'cover3', '.', 'When/if', 'not', 'using', 'back', 'cover', 'the', 'phone', 'feels', 'cheap.4', '.', 'Phone', 'heats', 'while', 'charging', '...', 'in', 'summer', 'heat', '..', 'not', 'when', 'the', 'weather', 'is', '..', 'rainy5', '.', 'Before', 'recent', 'software', 'update', 'games', 'genshin', 'impact', 'used', 'to', 'or', 'render', 'a', 'bit', '..', 'but', 'now', 'it', 'does', \"n't\", '..', 'maybe', 'it', 'was', 'because', 'of', 'hot', 'weather', 'idk.6', '.', 'Software', 'ui', 'feels', 'cheapNow', 'pros,1', '.', 'Gaming', 'experience', 'is', '.', 'Camera', 'works', 'for', 'photography', '..', 'not', 'so', 'much', 'for', 'videography', 'though3', '.', 'Battery', 'extremely', 'fast4', '.', 'Battery', 'backup', 'is', 'good5', '.', 'The', 'visuals', ',', ',', 'colors', 'of', 'the', 'amoled', 'display', 'is', 'amazing6', '.', 'Phone', 'feels', 'light', 'in', 'hand', 'so', 'my', 'fingers', 'do', \"n't\", 'it', 'would', 'with', 'phones', 'with', 'glass', 'back', 'and', 'metal', 'frame', 'so', 'that', \"'s\", 'good7', '.', 'Performance', 'is', 'very', 'smooth', ',', 'functions', 'switching', 'between', 'apps', 'and', 'games', 'and', 'such8', '.', 'There', 'were', 'some', 'issues', 'with', 'fingerprint', 'reading', 'before', 'update', 'not', 'they', \"'re\", 'mostly', 'all', '.', 'The', '1', 'bit', 'always', 'on', 'display', 'function', 'is', 'soo', '.', 'Saves', 'a', 'lot', 'of', 'battery.10', '.', 'If', 'you', 'could', 'get', 'it', 'under', '33k', 'the', '8+256', 'variant', 'it', \"'s\", 'buying', '...', 'I', 'got', 'my', '12+256', 'variant', 'for', '32k', 'by', 'exchanging', 'my', 'realme', '3pro.Note', ':', 'dont', 'buy', '8+128gb', '..', 'instead', 'buy', '8+256', 'that', 'would', 'be', 'a', 'purchase', 'I', 'purchased', 'the', 'IQOO', 'Neo', '9', 'Pro', 'during', 'last', 'month', \"'s\", 'Ram', 'Navmi', 'sale', ',', 'and', 'I', 'must', 'say', 'I', 'am', 'thoroughly', 'with', 'this', 'device', '.', 'The', 'phone', 'boasts', 'a', 'processor', ',', 'display', ',', 'and', 'camera', 'performance', 'of', 'this', 'phone', 'is', '.', 'The', 'Qualcomm', 'Snapdragon', 'processor', 'ensures', 'smooth', 'and', 'lag-free', 'operation', ',', 'whether', 'I', \"'m\", 'gaming', ',', 'multitasking', ',', 'or', 'browsing', 'the', 'web', '.', 'The', '120Hz', 'AMOLED', 'display', 'is', 'a', 'treat', 'for', 'the', 'eyes', ',', 'offering', 'colors', 'and', 'contrast.The', 'camera', 'setup', 'on', 'the', 'IQOO', 'Neo', '9', 'Pro', 'is', 'truly', '.', 'The', 'photos', 'I', \"'ve\", 'taken', 'with', 'this', 'phone', 'are', 'sharp', ',', 'detailed', ',', 'and', 'full', 'of', 'color', '.', 'The', 'camera', 'software', 'offers', 'a', 'variety', 'of', 'shooting', 'modes', 'and', 'editing', 'tools', ',', 'allowing', 'me', 'to', 'capture', 'photos', 'and', 'videos', ',', 'the', 'battery', 'life', 'on', 'this', 'phone', 'is', '.', 'I', 'can', 'easily', 'get', 'through', 'a', 'full', 'day', 'of', 'heavy', 'usage', 'without', 'needing', 'to', 'recharge.Overall', ',', 'I', 'highly', 'the', 'IQOO', 'Neo', '9', 'Pro', 'to', 'anyone', 'looking', 'for', 'a', 'high-performance', 'smartphone', 'with', 'a', 'camera', 'and', 'display', '.', 'It', \"'s\", 'a', 'device', 'that', 'offers', 'value', 'for', 'money', '.', 'I', 'have', 'upgraded', 'to', 'this', 'phone', 'from', 'my', '5', 'year', 'old', 'POCO', 'F1', ',', '30', '-', '40k', 'segment', 'phones', 'are', 'so', 'many', 'in', 'this', 'price', 'range', '.', 'But', 'for', 'few', 'of', 'my', 'priorities', 'were', 'performance', 'to', 'edit', 'videos', 'on', 'the', 'go', 'and', 'click', 'decent', 'pictures', 'and', 'storage', 'of', 'atleast', '256GB', '.', 'with', 'these', 'in', 'my', 'mind', 'I', 'narrowed', 'down', 'to', 'IQOO', 'Neo', '9', 'Pro.Pros', '-', 'Really', 'Camera', 'for', 'most', 'of', 'the', 'lighting', 'scenarios', ',', '4k', 'video', 'lacks', 'wide', 'angle', 'but', 'usable', 'footage', 'with', 'OIS', 'and', 'also', 'front', 'camera', 'has', '1080p', '30fps', 'which', 'is', 'let', 'down', 'if', 'you', 'use', 'front', 'camera', 'more', '.', 'latest', 'Snapdragon', '8', 'Gen', '2', 'processor', ',', 'which', 'delivers', 'performance', 'for', 'tasks', 'gaming', 'and', 'multitasking', '.', 'Fast', 'charging', 'is', 'just', 'mind', 'blowing', 'by', 'default', 'it', 'is', 'not', 'enabled', 'you', 'can', 'select', 'fast', 'charging', 'option', '..', '0', '-', '100', '%', 'in', 'just', '30', 'mins.UFS', '4.0', 'STORAGE', 'works', 'a', 'everytime', 'you', 'open', 'multiple', 'apps', '.', 'The', 'fiery', 'red', 'colour', 'stands', 'out', 'and', 'definitely', 'on', 'me.Cons', ':', 'funtouch', 'is', ',', 'but', 'must', 'say', 'Xiaomi', 'HyperOS', 'user', 'interface', 'looks', 'even', 'more', ',', 'wireless', 'charging', 'or', 'NFC', 'at', 'this', 'price', 'range.Overall', 'one', 'of', 'the', 'phone', 'in', 'the', 'range', 'with', 'batter', 'life', ',', 'charger', 'in', 'the', 'box', ',', 'cameras', '.']\n",
      "\t\n",
      "\n"
     ]
    }
   ],
   "source": [
    "from afinn import Afinn\n",
    "from nltk.tokenize import word_tokenize\n",
    "afinn = Afinn()\n",
    "positive1 = []\n",
    "negative1 = []\n",
    "neutral1 = []\n",
    "for i in df2['reviews']:\n",
    "    \n",
    "    tokens =word_tokenize(i)\n",
    "\n",
    "    for token in tokens:\n",
    "        if afinn.score(token) > 0:\n",
    "            positive1.append(token)\n",
    "        elif afinn.score(token) < 0:\n",
    "            negative1.append(token)\n",
    "        else:\n",
    "            neutral1.append(token)\n",
    "\n",
    "    print('Positive Words :',positive1)\n",
    "    print(\"\\t\\n\")\n",
    "    print('Negative Words :',negative1)\n",
    "    print(\"\\t\\n\")\n",
    "    print('Neutral Words :',neutral1)\n",
    "    print(\"\\t\\n\")\n",
    "    "
   ]
  },
  {
   "cell_type": "code",
   "execution_count": 46,
   "id": "3deb27af",
   "metadata": {},
   "outputs": [],
   "source": [
    "p1 = len(positive1)\n",
    "n1 = len(negative1)\n",
    "ne1 = len(neutral1)"
   ]
  },
  {
   "cell_type": "code",
   "execution_count": 47,
   "id": "b3768574",
   "metadata": {},
   "outputs": [],
   "source": [
    "name = ['Positive_words','Negative_words','Neutral_words']\n",
    "rev1 = [p1,n1,ne1]"
   ]
  },
  {
   "cell_type": "code",
   "execution_count": 48,
   "id": "8fa8ed1c",
   "metadata": {},
   "outputs": [
    {
     "data": {
      "image/png": "[encoded data removed]",
      "text/plain": [
       "<Figure size 640x480 with 1 Axes>"
      ]
     },
     "metadata": {},
     "output_type": "display_data"
    }
   ],
   "source": [
    "plt.bar(name,rev1,color = ['blue','red','green'])\n",
    "addgraph(name,rev1)"
   ]
  },
  {
   "cell_type": "code",
   "execution_count": null,
   "id": "095ba1e7",
   "metadata": {},
   "outputs": [],
   "source": []
  }
 ],
 "metadata": {
  "kernelspec": {
   "display_name": "Python 3 (ipykernel)",
   "language": "python",
   "name": "python3"
  },
  "language_info": {
   "codemirror_mode": {
    "name": "ipython",
    "version": 3
   },
   "file_extension": ".py",
   "mimetype": "text/x-python",
   "name": "python",
   "nbconvert_exporter": "python",
   "pygments_lexer": "ipython3",
   "version": "3.11.8"
  }
 },
 "nbformat": 4,
 "nbformat_minor": 5
}
